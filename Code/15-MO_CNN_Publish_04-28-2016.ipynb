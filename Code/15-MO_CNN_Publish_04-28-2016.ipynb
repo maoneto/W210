{
 "cells": [
  {
   "cell_type": "markdown",
   "metadata": {},
   "source": [
    "## Yield Oracles:  Predicting Soybean Yields in Brazil Using Satellite and Weather Data\n",
    "\n",
    "This code was written as part of a project to satisfy the [Capstone Course](https://datascience.berkeley.edu/academics/curriculum/synthetic-capstone-course/) requirement of the [UC Berkeley Master of Information and Data Science](https://datascience.berkeley.edu) (MIDS) program.  Our project was completed in April 2016.  For more details and to see our results, please visit our [website](http://amitavadas.github.io/capstone/index.html).  We look forward to your feedback!\n",
    "\n",
    "For questions and comments about this code, please contact the author, Marguerite Oneto, by email at marguerite.oneto@ischool.berkeley.edu."
   ]
  },
  {
   "cell_type": "markdown",
   "metadata": {},
   "source": [
    "# Run A Convolutional Neural Network Using Theano\n",
    "This code is based on a notebook shared in the [W207: Applied Machine Learning](https://datascience.berkeley.edu/academics/curriculum/applied-machine-learning/) course of the MIDS curriculum.  \n",
    "That notebook was based on the references below.  The code was cleaned up by my Final Project teammate Lei Yang.  \n",
    "\n",
    "Reference:  http://deeplearning.net/tutorial/lenet.html   \n",
    "Reference:  http://ufldl.stanford.edu/tutorial/supervised/FeatureExtractionUsingConvolution/   \n",
    "Reference:  https://www.youtube.com/watch?v=S75EdAcXHKk   \n",
    "Reference:  http://danielnouri.org/notes/2014/12/17/using-convolutional-neural-nets-to-detect-facial-keypoints-tutorial/   \n",
    "\n",
    "Data for Yield Prediction Test:  https://github.com/maoneto/W210/blob/master/Code/data/train_cnn_21images_64grids_trunc.csv"
   ]
  },
  {
   "cell_type": "markdown",
   "metadata": {},
   "source": [
    "# Run 5-Layer CNN Model Using Theano with All 21 Images"
   ]
  },
  {
   "cell_type": "markdown",
   "metadata": {},
   "source": [
    "## Create training, validation, and test datasets"
   ]
  },
  {
   "cell_type": "code",
   "execution_count": 1,
   "metadata": {
    "collapsed": false
   },
   "outputs": [
    {
     "name": "stdout",
     "output_type": "stream",
     "text": [
      "X_train and X_test Shape:\n",
      "(400, 21, 13, 13) (100, 21, 13, 13)\n",
      "Y_train and Y_test Shape:\n",
      "(400, 1) (100, 1)\n"
     ]
    }
   ],
   "source": [
    "import math\n",
    "import csv\n",
    "import numpy as np\n",
    "from sklearn.cross_validation import train_test_split\n",
    "\n",
    "X = []\n",
    "Y = []\n",
    "\n",
    "with open('train_cnn_21images_64grids_trunc.csv', 'r') as csvfile:\n",
    "    datareader = csv.reader(csvfile, delimiter=',')\n",
    "    for row in datareader:\n",
    "        label = row.pop()  ## pop the last element in the list which is the label (yield calc)\n",
    "        X.append(row)\n",
    "        Y.append(label)\n",
    "X = np.array(X).astype(np.float)\n",
    "Y = np.array(Y).astype(np.float)\n",
    "\n",
    "# Break labeled examples into train and test sets\n",
    "X_train, X_test, Y_train, Y_test = train_test_split(X, Y, test_size=0.20, random_state=22)\n",
    "\n",
    "X_train = X_train.reshape(X_train.shape[0], 21, 13, 13)\n",
    "X_test = X_test.reshape(X_test.shape[0], 21, 13, 13)\n",
    "Y_train = Y_train.reshape(Y_train.shape[0], 1)\n",
    "Y_test = Y_test.reshape(Y_test.shape[0], 1)\n",
    "\n",
    "print \"X_train and X_test Shape:\"\n",
    "print X_train.shape, X_test.shape\n",
    "\n",
    "print \"Y_train and Y_test Shape:\"\n",
    "print Y_train.shape, Y_test.shape\n",
    "\n"
   ]
  },
  {
   "cell_type": "markdown",
   "metadata": {},
   "source": [
    "### 5-Layer Convolutional Neural Network Using [Theano](http://www.deeplearning.net/software/theano/)\n",
    "  - 3 convolution layers (32/64/128 feature maps) with subsampling and 2 globally connected neural layers (600 neurons)\n",
    "  - Because the convergence process was not smooth, we reduced the learning rate to 0.0001 and saved the predictions for the test data whenever the cost was reduced during an epoch."
   ]
  },
  {
   "cell_type": "code",
   "execution_count": 2,
   "metadata": {
    "collapsed": false
   },
   "outputs": [
    {
     "name": "stdout",
     "output_type": "stream",
     "text": [
      "cpu\n",
      "float64\n"
     ]
    }
   ],
   "source": [
    "import time\n",
    "import pickle\n",
    "from datetime import datetime\n",
    "import theano \n",
    "from theano import tensor as T\n",
    "from theano.sandbox.rng_mrg import MRG_RandomStreams as RandomStreams\n",
    "from theano.tensor.nnet.conv import conv2d\n",
    "from theano.tensor.signal.downsample import max_pool_2d\n",
    "print theano.config.device # We're using CPUs (for now)\n",
    "print theano.config.floatX # Should be 64 bit for CPUs\n",
    "\n",
    "theano.exception_verbosity='high'\n",
    "theano.mode='FAST_COMPILE'\n",
    "theano.allow_gc=False"
   ]
  },
  {
   "cell_type": "code",
   "execution_count": 3,
   "metadata": {
    "collapsed": false
   },
   "outputs": [
    {
     "name": "stdout",
     "output_type": "stream",
     "text": [
      "Model refreshed @ 11:10:35\n"
     ]
    }
   ],
   "source": [
    "class YieldPredictor():\n",
    "    \n",
    "    # Initialize an instance of the class.\n",
    "    def __init__(self, n_output):\n",
    "        self._getParameters(n_output)\n",
    "        self._getModel()\n",
    "\n",
    "    def _getParameters(self, numClasses):  # initialize weights randomly\n",
    "        numHiddenNodes = 600\n",
    "        patchWidth = 3\n",
    "        patchHeight = 3\n",
    "        featureMapsLayer1 = 32\n",
    "        featureMapsLayer2 = 64\n",
    "        featureMapsLayer3 = 128\n",
    "        # Convolution layers.\n",
    "        w_1 = theano.shared(np.asarray((np.random.randn(*(featureMapsLayer1, 21, patchWidth, patchHeight))*0.01)))\n",
    "        w_2 = theano.shared(np.asarray((np.random.randn(*(featureMapsLayer2, featureMapsLayer1, patchWidth-1, patchHeight-1))*0.01)))\n",
    "        w_3 = theano.shared(np.asarray((np.random.randn(*(featureMapsLayer3, featureMapsLayer2, patchWidth-1, patchHeight-1))*0.01)))\n",
    "        # Fully connected NN.\n",
    "        w_4 = theano.shared(np.asarray((np.random.randn(*(featureMapsLayer3 * 2 * 2, numHiddenNodes))*0.01)))\n",
    "        w_5 = theano.shared(np.asarray((np.random.randn(*(numHiddenNodes, numClasses))*0.01)))\n",
    "        self.params = [w_1, w_2, w_3, w_4, w_5]\n",
    "        self.srng = RandomStreams()\n",
    "\n",
    "    def _getModel(self):\n",
    "        theano.config.floatX = 'float64'\n",
    "        X = T.tensor4() # conv2d works with tensor4 type\n",
    "        Y = T.matrix()\n",
    "        \n",
    "        w_1, w_2, w_3, w_4, w_5 = self.params[0], self.params[1], self.params[2], self.params[3], self.params[4]\n",
    "        y_hat_train = self._model(X, w_1, w_2, w_3, w_4, w_5, 0.2, 0.5)\n",
    "        y_hat_predict = self._model(X, w_1, w_2, w_3, w_4, w_5, 0., 0.)\n",
    "\n",
    "        self.cost = T.sqrt(T.mean(T.sqr(Y - y_hat_train))) # RMSE. Or use SSE = T.sum(T.sqr(Y - y_hat_train))\n",
    "        update = self._backprop(self.cost, self.params)\n",
    "        self.train = theano.function(inputs=[X, Y], outputs=self.cost, updates=update, allow_input_downcast=True)\n",
    "        self.predict = theano.function(inputs=[X], outputs=y_hat_predict, allow_input_downcast=True)\n",
    "\n",
    "    def _model(self, X, w_1, w_2, w_3, w_4, w_5, p_1, p_2):\n",
    "        l1 = self._dropout(max_pool_2d(T.maximum(conv2d(X, w_1, border_mode='full'),0.), (2, 2)), p_1)\n",
    "        l2 = self._dropout(max_pool_2d(T.maximum(conv2d(l1, w_2),0.), (2, 2)), p_1)\n",
    "        # flatten to switch back to 1d layers - with \"outdim = 2\" (2d) output \n",
    "        l3 = self._dropout(T.flatten(max_pool_2d(T.maximum(conv2d(l2, w_3),0.), (2, 2)), outdim=2), p_1)\n",
    "        l4 = self._dropout(T.maximum(T.dot(l3, w_4), 0.), p_2)\n",
    "        return T.dot(l4, w_5)\n",
    "\n",
    "    def _dropout(self, X, p=0.):\n",
    "        if p > 0:\n",
    "            X *= self.srng.binomial(X.shape, p=1 - p)\n",
    "            X /= 1 - p\n",
    "        return X\n",
    "\n",
    "    def _backprop(self, Cost, w, alpha=0.0001, rho=0.66, epsilon=1e-6):\n",
    "        grads = T.grad(cost=Cost, wrt=w)\n",
    "        updates = []\n",
    "        for w1, grad in zip(w, grads):\n",
    "            # adding gradient scaling\n",
    "            acc = theano.shared(w1.get_value() * 0.0)\n",
    "            acc_new = rho * acc + (1 - rho) * grad ** 2\n",
    "            gradient_scaling = T.sqrt(acc_new + epsilon)\n",
    "            grad = grad / gradient_scaling\n",
    "            updates.append((acc, acc_new))\n",
    "            updates.append((w1, w1 - grad * alpha))\n",
    "        return updates\n",
    "\n",
    "    def _shuffleData(self, p, X, y):\n",
    "        # shuffle it\n",
    "        shuffle = np.random.permutation(np.arange(X.shape[0]))\n",
    "        X, y = X[shuffle], y[shuffle]\n",
    "        # divide \n",
    "        n_train = np.round(X.shape[0]*p)\n",
    "        return X[:n_train], y[:n_train], X[n_train:], y[n_train:] \n",
    "\n",
    "    def fit_predict(self, X, y, x_test, y_test, epochs=1000, miniBatchSize=100):\n",
    "        # Set start of training time\n",
    "        start_time = time.time()\n",
    "        # Set model time\n",
    "        modeltime = datetime.now().strftime(\"%Y%m%d%H%M%S\")\n",
    "        print 'Epochs: %d, MiniBatchSize: %d, TrainingExamples: %d, ModelTime: %s' %(epochs, miniBatchSize, y.shape[0], modeltime)      \n",
    "        # Set epoch variables\n",
    "        min_val_rmse = 100000\n",
    "        train_losses = []\n",
    "        val_losses = []\n",
    "        num_examples_seen = 0\n",
    "        # Divide the data\n",
    "        train_data, train_labels, val_data, val_labels = self._shuffleData(0.9, X, y)\n",
    "        for i in range(epochs):\n",
    "            epoch_start = time.time()\n",
    "            # shuffle training data only\n",
    "            shuffle = np.random.permutation(np.arange(train_data.shape[0]))\n",
    "            train_data, train_labels = train_data[shuffle], train_labels[shuffle]\n",
    "            # run mini-batch gradient descent\n",
    "            for start, end in zip(range(0, len(train_data), miniBatchSize), range(miniBatchSize, len(train_data), miniBatchSize)):\n",
    "                self.cost = self.train(train_data[start:end], train_labels[start:end])\n",
    "            epoch_time = time.time() - epoch_start\n",
    "            # Record training loss\n",
    "            train_losses.append((i, self.cost))\n",
    "            # Make predictions on validation dataset\n",
    "            predicted_labels = self.predict(val_data)\n",
    "            # Calculate validation cost RMSE\n",
    "            val_rmse = np.sqrt(np.mean(np.square(predicted_labels - val_labels)))\n",
    "            val_losses.append((i, val_rmse))\n",
    "            # if we have a new low val_rmse, save the weights and predictions\n",
    "            is_saved = ''\n",
    "            if val_rmse < min_val_rmse:\n",
    "                min_val_rmse = val_rmse\n",
    "                # Make and save predictions on test dataset\n",
    "                predictions = self.predict(x_test)\n",
    "                predictions_and_labels = np.array(zip(predictions, y_test))\n",
    "                filename = \"./predictions/CNNs/pred-%s.txt\" %(modeltime)\n",
    "                np.savetxt(filename, predictions_and_labels, fmt='%.18f', delimiter=',',)\n",
    "                # Save model parameters\n",
    "                filename = \"./models/CNNs/CNN-%s.pkl\" % (modeltime)\n",
    "                pickle.dump(self.params, open(filename, 'w'))\n",
    "                is_saved = '(saved)'\n",
    "            # print epoch results to screen             \n",
    "            print '%d) trainCost = %.4f, validationRMSE = %.4f, trainTime = %.2f min, endTime = %s %s' %(i+1, self.cost, val_rmse, epoch_time/60, time.strftime(\"%I:%M:%S\"), is_saved)\n",
    "            \n",
    "        print 'Finished.  Total train time = %.2f hours' %((time.time() - start_time)/3600)   \n",
    "    \n",
    "        return train_losses, val_losses\n",
    "\n",
    "print 'Model refreshed @ %s' %(time.strftime(\"%I:%M:%S\"))"
   ]
  },
  {
   "cell_type": "code",
   "execution_count": 4,
   "metadata": {
    "collapsed": false
   },
   "outputs": [
    {
     "name": "stdout",
     "output_type": "stream",
     "text": [
      "Epochs: 10, MiniBatchSize: 10, TrainingExamples: 400, ModelTime: 20160428111039\n",
      "1) trainCost = 2.8932, validationRMSE = 2.8432, trainTime = 0.05 min, endTime = 11:10:43 (saved)\n",
      "2) trainCost = 2.3712, validationRMSE = 2.8430, trainTime = 0.05 min, endTime = 11:10:47 (saved)\n",
      "3) trainCost = 2.9539, validationRMSE = 2.8413, trainTime = 0.05 min, endTime = 11:10:51 (saved)\n",
      "4) trainCost = 3.0278, validationRMSE = 2.7893, trainTime = 0.05 min, endTime = 11:10:54 (saved)\n",
      "5) trainCost = 1.0026, validationRMSE = 1.1786, trainTime = 0.05 min, endTime = 11:10:58 (saved)\n",
      "6) trainCost = 0.7696, validationRMSE = 0.9328, trainTime = 0.05 min, endTime = 11:11:02 (saved)\n",
      "7) trainCost = 1.1935, validationRMSE = 0.9276, trainTime = 0.05 min, endTime = 11:11:06 (saved)\n",
      "8) trainCost = 1.0352, validationRMSE = 0.9272, trainTime = 0.05 min, endTime = 11:11:10 (saved)\n",
      "9) trainCost = 1.2046, validationRMSE = 0.9294, trainTime = 0.05 min, endTime = 11:11:13 \n",
      "10) trainCost = 1.1804, validationRMSE = 0.9355, trainTime = 0.05 min, endTime = 11:11:16 \n",
      "Finished.  Total train time = 0.01 hours\n"
     ]
    },
    {
     "name": "stderr",
     "output_type": "stream",
     "text": [
      "/Users/SendIt/anaconda/lib/python2.7/site-packages/ipykernel/__main__.py:72: DeprecationWarning: using a non-integer number instead of an integer will result in an error in the future\n"
     ]
    }
   ],
   "source": [
    "################### Option 2. Theano 5-layer Model ###################\n",
    "\n",
    "net5 = YieldPredictor(n_output=1)\n",
    "train_losses, val_losses = net5.fit_predict(X=X_train, y=Y_train, x_test=X_test, y_test=Y_test, epochs=10, miniBatchSize=10)\n",
    "# del net5  # Free up memory"
   ]
  },
  {
   "cell_type": "markdown",
   "metadata": {
    "collapsed": false
   },
   "source": [
    "### Baseline Model:  The Mean"
   ]
  },
  {
   "cell_type": "code",
   "execution_count": 5,
   "metadata": {
    "collapsed": false
   },
   "outputs": [
    {
     "name": "stdout",
     "output_type": "stream",
     "text": [
      "R-Squared: -0.0142, MAE: 0.7971, RMSE: 1.0014, MAPE: 39.46%\n"
     ]
    }
   ],
   "source": [
    "y_hat = len(Y_test)*[np.mean(Y_train)]\n",
    "y_test = Y_test[:, 0]\n",
    "\n",
    "y_hat = np.array(y_hat).astype(np.float)\n",
    "y_test = np.array(y_test).astype(np.float)\n",
    "y_bar = np.mean(y_test)\n",
    "\n",
    "R_squared = 1 - np.sum(np.square(y_hat - y_test))/np.sum(np.square(y_test - y_bar))\n",
    "mae = np.mean(np.abs(y_hat - y_test))\n",
    "rmse = np.sqrt(np.mean(np.square(y_hat - y_test)))\n",
    "mape = np.mean(abs(np.divide((y_hat - y_test), y_test)))\n",
    "\n",
    "print 'R-Squared: %.4f, MAE: %.4f, RMSE: %.4f, MAPE: %.2f%s' %(R_squared, mae, rmse, mape*100, '%')  "
   ]
  },
  {
   "cell_type": "markdown",
   "metadata": {},
   "source": [
    "### Calculate Performance Stats on Holdout Sample\n",
    "These are the predictions on a holdout sample (X_test above) using the model with the lowest validation loss.    "
   ]
  },
  {
   "cell_type": "code",
   "execution_count": 6,
   "metadata": {
    "collapsed": false
   },
   "outputs": [
    {
     "name": "stdout",
     "output_type": "stream",
     "text": [
      "Results:\n",
      "R-Squared: -108.6960, MAE: 0.8180, RMSE: 1.0415, MAPE: 33.81%\n"
     ]
    }
   ],
   "source": [
    "y_hat = []\n",
    "y_test = []\n",
    "with open('./predictions/CNNs/pred-20160428111039.txt', 'r') as csvfile:\n",
    "    datareader = csv.reader(csvfile, delimiter=',')\n",
    "    for row in datareader:\n",
    "        label = row.pop()\n",
    "        y_hat.append(row)\n",
    "        y_test.append(label)\n",
    "\n",
    "y_hat = np.array(y_hat).astype(np.float)\n",
    "y_test = np.array(y_test).astype(np.float)\n",
    "y_bar = np.mean(y_test)\n",
    "\n",
    "print 'Results:'\n",
    "for j in range(len(y_hat[0])):\n",
    "    y_hat_last = y_hat[:, j]\n",
    "R_squared = 1 - np.sum(np.square(y_hat - y_test))/np.sum(np.square(y_test - y_bar))\n",
    "mae = np.mean(np.abs(y_hat - y_test))\n",
    "rmse = np.sqrt(np.mean(np.square(y_hat - y_test)))\n",
    "count = 0\n",
    "sums = 0\n",
    "for i in range(len(y_test)):\n",
    "    if y_test[i] != 0: \n",
    "        error = np.divide(abs(y_hat_last[i] - y_test[i]), abs(y_test[i]))\n",
    "        count += 1\n",
    "        sums += error\n",
    "mean_abs_pct_error = sums/count\n",
    "print 'R-Squared: %.4f, MAE: %.4f, RMSE: %.4f, MAPE: %.2f%s' %(R_squared, mae, rmse, mean_abs_pct_error*100, '%')  \n",
    "\n"
   ]
  },
  {
   "cell_type": "markdown",
   "metadata": {},
   "source": [
    "### Graph Losses"
   ]
  },
  {
   "cell_type": "code",
   "execution_count": 7,
   "metadata": {
    "collapsed": false
   },
   "outputs": [
    {
     "data": {
      "image/png": "[encoded data removed]",
      "text/plain": [
       "<matplotlib.figure.Figure at 0x10edae790>"
      ]
     },
     "metadata": {},
     "output_type": "display_data"
    }
   ],
   "source": [
    "%matplotlib inline\n",
    "import matplotlib.pyplot as plt\n",
    "\n",
    "def plot_losses(train_losses, val_losses, epochs, min_y, max_y):\n",
    "    x1 = [a+1 for (a,b)  in train_losses]\n",
    "    y1 = [b for (a,b)  in train_losses]\n",
    "    x2 = [a+1 for (a,b)  in val_losses]\n",
    "    y2 = [b for (a,b)  in val_losses]\n",
    "    plt.figure(figsize=(12, 6))\n",
    "    plt.axis((1, epochs, min_y, max_y))\n",
    "    plt.plot(x1, y1, \"-m\", x2, y2, \"-b\")\n",
    "    plt.legend(('Train Loss', 'Validation Loss'))\n",
    "    xlabel = 'Epochs'\n",
    "    plt.xlabel(xlabel)\n",
    "    plt.show()\n",
    "\n",
    "plot_losses(train_losses, val_losses, 10, 0, 4.0)"
   ]
  },
  {
   "cell_type": "code",
   "execution_count": null,
   "metadata": {
    "collapsed": true
   },
   "outputs": [],
   "source": []
  }
 ],
 "metadata": {
  "kernelspec": {
   "display_name": "Python 2",
   "language": "python",
   "name": "python2"
  },
  "language_info": {
   "codemirror_mode": {
    "name": "ipython",
    "version": 2
   },
   "file_extension": ".py",
   "mimetype": "text/x-python",
   "name": "python",
   "nbconvert_exporter": "python",
   "pygments_lexer": "ipython2",
   "version": "2.7.10"
  }
 },
 "nbformat": 4,
 "nbformat_minor": 0
}
